{
 "cells": [
  {
   "cell_type": "markdown",
   "metadata": {},
   "source": [
    "Python code, explanation of thought process, any issues encountered"
   ]
  },
  {
   "cell_type": "code",
   "execution_count": 110,
   "metadata": {
    "collapsed": true
   },
   "outputs": [],
   "source": [
    "import pandas as pd"
   ]
  },
  {
   "cell_type": "code",
   "execution_count": 111,
   "metadata": {
    "collapsed": true
   },
   "outputs": [],
   "source": [
    "NEISS_df = pd.read_csv('NEISS2014.csv')"
   ]
  },
  {
   "cell_type": "code",
   "execution_count": 112,
   "metadata": {
    "scrolled": false
   },
   "outputs": [
    {
     "data": {
      "text/html": [
       "<div>\n",
       "<style>\n",
       "    .dataframe thead tr:only-child th {\n",
       "        text-align: right;\n",
       "    }\n",
       "\n",
       "    .dataframe thead th {\n",
       "        text-align: left;\n",
       "    }\n",
       "\n",
       "    .dataframe tbody tr th {\n",
       "        vertical-align: top;\n",
       "    }\n",
       "</style>\n",
       "<table border=\"1\" class=\"dataframe\">\n",
       "  <thead>\n",
       "    <tr style=\"text-align: right;\">\n",
       "      <th></th>\n",
       "      <th>CPSC Case #</th>\n",
       "      <th>trmt_date</th>\n",
       "      <th>psu</th>\n",
       "      <th>weight</th>\n",
       "      <th>stratum</th>\n",
       "      <th>age</th>\n",
       "      <th>sex</th>\n",
       "      <th>race</th>\n",
       "      <th>race_other</th>\n",
       "      <th>diag</th>\n",
       "      <th>diag_other</th>\n",
       "      <th>body_part</th>\n",
       "      <th>disposition</th>\n",
       "      <th>location</th>\n",
       "      <th>fmv</th>\n",
       "      <th>prod1</th>\n",
       "      <th>prod2</th>\n",
       "      <th>narrative</th>\n",
       "    </tr>\n",
       "  </thead>\n",
       "  <tbody>\n",
       "    <tr>\n",
       "      <th>0</th>\n",
       "      <td>141200216</td>\n",
       "      <td>10/23/14</td>\n",
       "      <td>63</td>\n",
       "      <td>99.704</td>\n",
       "      <td>M</td>\n",
       "      <td>21</td>\n",
       "      <td>Female</td>\n",
       "      <td>None listed</td>\n",
       "      <td>NaN</td>\n",
       "      <td>62</td>\n",
       "      <td>NaN</td>\n",
       "      <td>75</td>\n",
       "      <td>1</td>\n",
       "      <td>1</td>\n",
       "      <td>0</td>\n",
       "      <td>679</td>\n",
       "      <td>1807.0</td>\n",
       "      <td>21YOF LAYING ON THE COUCH AND ROLLED OFF TO TH...</td>\n",
       "    </tr>\n",
       "    <tr>\n",
       "      <th>1</th>\n",
       "      <td>140117851</td>\n",
       "      <td>1/4/14</td>\n",
       "      <td>63</td>\n",
       "      <td>81.576</td>\n",
       "      <td>M</td>\n",
       "      <td>62</td>\n",
       "      <td>Female</td>\n",
       "      <td>White</td>\n",
       "      <td>NaN</td>\n",
       "      <td>57</td>\n",
       "      <td>NaN</td>\n",
       "      <td>79</td>\n",
       "      <td>1</td>\n",
       "      <td>1</td>\n",
       "      <td>0</td>\n",
       "      <td>1807</td>\n",
       "      <td>115.0</td>\n",
       "      <td>62YOF TRIPPED OVER THE CORD FOR THE VACUUM CLE...</td>\n",
       "    </tr>\n",
       "    <tr>\n",
       "      <th>2</th>\n",
       "      <td>150144993</td>\n",
       "      <td>8/17/14</td>\n",
       "      <td>63</td>\n",
       "      <td>99.704</td>\n",
       "      <td>M</td>\n",
       "      <td>21</td>\n",
       "      <td>Female</td>\n",
       "      <td>None listed</td>\n",
       "      <td>NaN</td>\n",
       "      <td>57</td>\n",
       "      <td>NaN</td>\n",
       "      <td>83</td>\n",
       "      <td>1</td>\n",
       "      <td>0</td>\n",
       "      <td>0</td>\n",
       "      <td>1333</td>\n",
       "      <td>NaN</td>\n",
       "      <td>21YOF FELL OFF A SKATEBOARD AND FRACTURED FOOT</td>\n",
       "    </tr>\n",
       "    <tr>\n",
       "      <th>3</th>\n",
       "      <td>150230176</td>\n",
       "      <td>7/27/14</td>\n",
       "      <td>63</td>\n",
       "      <td>99.704</td>\n",
       "      <td>M</td>\n",
       "      <td>30</td>\n",
       "      <td>Female</td>\n",
       "      <td>None listed</td>\n",
       "      <td>NaN</td>\n",
       "      <td>64</td>\n",
       "      <td>NaN</td>\n",
       "      <td>79</td>\n",
       "      <td>1</td>\n",
       "      <td>1</td>\n",
       "      <td>0</td>\n",
       "      <td>4076</td>\n",
       "      <td>NaN</td>\n",
       "      <td>30YOF TRYING TO GET OUT OF BED AND FELT A POP ...</td>\n",
       "    </tr>\n",
       "    <tr>\n",
       "      <th>4</th>\n",
       "      <td>141220717</td>\n",
       "      <td>9/8/14</td>\n",
       "      <td>63</td>\n",
       "      <td>99.704</td>\n",
       "      <td>M</td>\n",
       "      <td>16</td>\n",
       "      <td>Male</td>\n",
       "      <td>None listed</td>\n",
       "      <td>NaN</td>\n",
       "      <td>57</td>\n",
       "      <td>NaN</td>\n",
       "      <td>82</td>\n",
       "      <td>1</td>\n",
       "      <td>0</td>\n",
       "      <td>0</td>\n",
       "      <td>1893</td>\n",
       "      <td>NaN</td>\n",
       "      <td>16YOM HAD HAND SLAMMED IN A DOOR FRACTURED HAND</td>\n",
       "    </tr>\n",
       "  </tbody>\n",
       "</table>\n",
       "</div>"
      ],
      "text/plain": [
       "   CPSC Case # trmt_date  psu  weight stratum  age     sex         race  \\\n",
       "0    141200216  10/23/14   63  99.704       M   21  Female  None listed   \n",
       "1    140117851    1/4/14   63  81.576       M   62  Female        White   \n",
       "2    150144993   8/17/14   63  99.704       M   21  Female  None listed   \n",
       "3    150230176   7/27/14   63  99.704       M   30  Female  None listed   \n",
       "4    141220717    9/8/14   63  99.704       M   16    Male  None listed   \n",
       "\n",
       "  race_other  diag diag_other  body_part  disposition  location  fmv  prod1  \\\n",
       "0        NaN    62        NaN         75            1         1    0    679   \n",
       "1        NaN    57        NaN         79            1         1    0   1807   \n",
       "2        NaN    57        NaN         83            1         0    0   1333   \n",
       "3        NaN    64        NaN         79            1         1    0   4076   \n",
       "4        NaN    57        NaN         82            1         0    0   1893   \n",
       "\n",
       "    prod2                                          narrative  \n",
       "0  1807.0  21YOF LAYING ON THE COUCH AND ROLLED OFF TO TH...  \n",
       "1   115.0  62YOF TRIPPED OVER THE CORD FOR THE VACUUM CLE...  \n",
       "2     NaN    21YOF FELL OFF A SKATEBOARD AND FRACTURED FOOT   \n",
       "3     NaN  30YOF TRYING TO GET OUT OF BED AND FELT A POP ...  \n",
       "4     NaN   16YOM HAD HAND SLAMMED IN A DOOR FRACTURED HAND   "
      ]
     },
     "execution_count": 112,
     "metadata": {},
     "output_type": "execute_result"
    }
   ],
   "source": [
    "NEISS_df.head()"
   ]
  },
  {
   "cell_type": "markdown",
   "metadata": {},
   "source": [
    "# Question 1"
   ]
  },
  {
   "cell_type": "markdown",
   "metadata": {},
   "source": [
    "What are the top three body parts most frequently represented in this dataset?"
   ]
  },
  {
   "cell_type": "markdown",
   "metadata": {},
   "source": [
    "What are the top three body parts that are least frequently represented?"
   ]
  },
  {
   "cell_type": "code",
   "execution_count": 113,
   "metadata": {
    "collapsed": true
   },
   "outputs": [],
   "source": [
    "bodyParts_df = pd.read_csv('BodyParts.csv')"
   ]
  },
  {
   "cell_type": "code",
   "execution_count": 114,
   "metadata": {},
   "outputs": [
    {
     "data": {
      "text/html": [
       "<div>\n",
       "<style>\n",
       "    .dataframe thead tr:only-child th {\n",
       "        text-align: right;\n",
       "    }\n",
       "\n",
       "    .dataframe thead th {\n",
       "        text-align: left;\n",
       "    }\n",
       "\n",
       "    .dataframe tbody tr th {\n",
       "        vertical-align: top;\n",
       "    }\n",
       "</style>\n",
       "<table border=\"1\" class=\"dataframe\">\n",
       "  <thead>\n",
       "    <tr style=\"text-align: right;\">\n",
       "      <th></th>\n",
       "      <th>BodyPart</th>\n",
       "      <th>Code</th>\n",
       "    </tr>\n",
       "  </thead>\n",
       "  <tbody>\n",
       "    <tr>\n",
       "      <th>0</th>\n",
       "      <td>Arm, lower</td>\n",
       "      <td>33</td>\n",
       "    </tr>\n",
       "    <tr>\n",
       "      <th>1</th>\n",
       "      <td>Arm, upper</td>\n",
       "      <td>80</td>\n",
       "    </tr>\n",
       "    <tr>\n",
       "      <th>2</th>\n",
       "      <td>Ankle</td>\n",
       "      <td>37</td>\n",
       "    </tr>\n",
       "    <tr>\n",
       "      <th>3</th>\n",
       "      <td>Ear</td>\n",
       "      <td>94</td>\n",
       "    </tr>\n",
       "    <tr>\n",
       "      <th>4</th>\n",
       "      <td>Elbow</td>\n",
       "      <td>32</td>\n",
       "    </tr>\n",
       "  </tbody>\n",
       "</table>\n",
       "</div>"
      ],
      "text/plain": [
       "     BodyPart  Code\n",
       "0  Arm, lower    33\n",
       "1  Arm, upper    80\n",
       "2       Ankle    37\n",
       "3         Ear    94\n",
       "4       Elbow    32"
      ]
     },
     "execution_count": 114,
     "metadata": {},
     "output_type": "execute_result"
    }
   ],
   "source": [
    "bodyParts_df.head()"
   ]
  },
  {
   "cell_type": "code",
   "execution_count": 115,
   "metadata": {},
   "outputs": [
    {
     "data": {
      "text/plain": [
       "75    9891\n",
       "76    5786\n",
       "92    5783\n",
       "79    5717\n",
       "31    3868\n",
       "37    3781\n",
       "35    3616\n",
       "82    3369\n",
       "83    3090\n",
       "30    2675\n",
       "33    2561\n",
       "36    2239\n",
       "34    2116\n",
       "32    1612\n",
       "85    1422\n",
       "93    1280\n",
       "88    1254\n",
       "89    1080\n",
       "77     847\n",
       "94     782\n",
       "81     756\n",
       "80     745\n",
       "0      549\n",
       "87     390\n",
       "38     286\n",
       "84       4\n",
       "Name: body_part, dtype: int64"
      ]
     },
     "execution_count": 115,
     "metadata": {},
     "output_type": "execute_result"
    }
   ],
   "source": [
    "# The quickest way would be just use value_counts() on the body_part field and then check the values against\n",
    "# the codes in the csv file\n",
    "\n",
    "NEISS_df.body_part.value_counts()"
   ]
  },
  {
   "cell_type": "code",
   "execution_count": 116,
   "metadata": {
    "collapsed": true
   },
   "outputs": [],
   "source": [
    "# As this shows, 75, 76 and 92 are the most common body parts, and 84, 38 and 87 are the least common\n",
    "# Consulting the csv file, these are head, face, and finger, and 25-50% of body, pubic region and not recorded\n",
    "# Since not recorded doesn't really qualify, the next most common body part is 0, or internal\n",
    "\n",
    "# For better reproducibility, I would merge the bodyparts csv file and do value_counts on that instead "
   ]
  },
  {
   "cell_type": "code",
   "execution_count": 117,
   "metadata": {
    "collapsed": true
   },
   "outputs": [],
   "source": [
    "BP_NEISS_df = NEISS_df.merge(bodyParts_df, left_on='body_part', right_on='Code')"
   ]
  },
  {
   "cell_type": "code",
   "execution_count": 118,
   "metadata": {},
   "outputs": [
    {
     "data": {
      "text/plain": [
       "Head      9891\n",
       "Face      5786\n",
       "Finger    5783\n",
       "Name: BodyPart, dtype: int64"
      ]
     },
     "execution_count": 118,
     "metadata": {},
     "output_type": "execute_result"
    }
   ],
   "source": [
    "BP_NEISS_df.BodyPart.value_counts()[:3]"
   ]
  },
  {
   "cell_type": "code",
   "execution_count": 119,
   "metadata": {
    "collapsed": true
   },
   "outputs": [],
   "source": [
    "# Most frequently represented \n",
    "# 1 Head\n",
    "# 2 Face\n",
    "# 3 Finger"
   ]
  },
  {
   "cell_type": "code",
   "execution_count": 120,
   "metadata": {},
   "outputs": [
    {
     "data": {
      "text/plain": [
       "25-50% of body      4\n",
       "Pubic region      286\n",
       "Not Recorded      390\n",
       "Internal          549\n",
       "Name: BodyPart, dtype: int64"
      ]
     },
     "execution_count": 120,
     "metadata": {},
     "output_type": "execute_result"
    }
   ],
   "source": [
    "BP_NEISS_df.BodyPart.value_counts(ascending=True)[:4]"
   ]
  },
  {
   "cell_type": "code",
   "execution_count": 121,
   "metadata": {
    "collapsed": true
   },
   "outputs": [],
   "source": [
    "# Least frequently represneted\n",
    "# 1 25-50% of body\n",
    "# 2 Pubic region\n",
    "# 3 Internal"
   ]
  },
  {
   "cell_type": "code",
   "execution_count": 122,
   "metadata": {},
   "outputs": [
    {
     "data": {
      "text/plain": [
       "(0, 18)"
      ]
     },
     "execution_count": 122,
     "metadata": {},
     "output_type": "execute_result"
    }
   ],
   "source": [
    "# As a precautionary measure, check for duplicate rows in NEISS, which may have affected these results\n",
    "NEISS_df[NEISS_df.duplicated()].shape"
   ]
  },
  {
   "cell_type": "markdown",
   "metadata": {},
   "source": [
    "# Question 2"
   ]
  },
  {
   "cell_type": "markdown",
   "metadata": {},
   "source": [
    "How many injuries in this dataset involve a skateboard?"
   ]
  },
  {
   "cell_type": "markdown",
   "metadata": {},
   "source": [
    "Of those injuries, what percentage were male and what percentage were female?"
   ]
  },
  {
   "cell_type": "markdown",
   "metadata": {},
   "source": [
    "What was the average age of someone injured in an incident involving a skateboard?"
   ]
  },
  {
   "cell_type": "code",
   "execution_count": 123,
   "metadata": {
    "collapsed": true
   },
   "outputs": [],
   "source": [
    "# Consulting the NEISS coding manual, there are two product codes relating to skateboards: 1333 and 5042\n",
    "# 1333 is code for 'skateboards', while 5042 is code for 'scooters/skateboards, powered' and so may include skateboards"
   ]
  },
  {
   "cell_type": "code",
   "execution_count": 124,
   "metadata": {
    "collapsed": true
   },
   "outputs": [],
   "source": [
    "# I'll first get a count on how many records have either 1333 or 5042 product codes using this mask\n",
    "mask = ((NEISS_df.prod1 == 1333) | (NEISS_df.prod1 == 5042) | (NEISS_df.prod2 == 1333) | (NEISS_df.prod2 == 5042))"
   ]
  },
  {
   "cell_type": "code",
   "execution_count": 125,
   "metadata": {},
   "outputs": [
    {
     "data": {
      "text/plain": [
       "518"
      ]
     },
     "execution_count": 125,
     "metadata": {},
     "output_type": "execute_result"
    }
   ],
   "source": [
    "len(NEISS_df[mask].index)"
   ]
  },
  {
   "cell_type": "code",
   "execution_count": 126,
   "metadata": {
    "scrolled": false
   },
   "outputs": [
    {
     "data": {
      "text/html": [
       "<div>\n",
       "<style>\n",
       "    .dataframe thead tr:only-child th {\n",
       "        text-align: right;\n",
       "    }\n",
       "\n",
       "    .dataframe thead th {\n",
       "        text-align: left;\n",
       "    }\n",
       "\n",
       "    .dataframe tbody tr th {\n",
       "        vertical-align: top;\n",
       "    }\n",
       "</style>\n",
       "<table border=\"1\" class=\"dataframe\">\n",
       "  <thead>\n",
       "    <tr style=\"text-align: right;\">\n",
       "      <th></th>\n",
       "      <th>CPSC Case #</th>\n",
       "      <th>trmt_date</th>\n",
       "      <th>psu</th>\n",
       "      <th>weight</th>\n",
       "      <th>stratum</th>\n",
       "      <th>age</th>\n",
       "      <th>sex</th>\n",
       "      <th>race</th>\n",
       "      <th>race_other</th>\n",
       "      <th>diag</th>\n",
       "      <th>diag_other</th>\n",
       "      <th>body_part</th>\n",
       "      <th>disposition</th>\n",
       "      <th>location</th>\n",
       "      <th>fmv</th>\n",
       "      <th>prod1</th>\n",
       "      <th>prod2</th>\n",
       "      <th>narrative</th>\n",
       "    </tr>\n",
       "  </thead>\n",
       "  <tbody>\n",
       "    <tr>\n",
       "      <th>2</th>\n",
       "      <td>150144993</td>\n",
       "      <td>8/17/14</td>\n",
       "      <td>63</td>\n",
       "      <td>99.7040</td>\n",
       "      <td>M</td>\n",
       "      <td>21</td>\n",
       "      <td>Female</td>\n",
       "      <td>None listed</td>\n",
       "      <td>NaN</td>\n",
       "      <td>57</td>\n",
       "      <td>NaN</td>\n",
       "      <td>83</td>\n",
       "      <td>1</td>\n",
       "      <td>0</td>\n",
       "      <td>0</td>\n",
       "      <td>1333</td>\n",
       "      <td>NaN</td>\n",
       "      <td>21YOF FELL OFF A SKATEBOARD AND FRACTURED FOOT</td>\n",
       "    </tr>\n",
       "    <tr>\n",
       "      <th>39</th>\n",
       "      <td>140505206</td>\n",
       "      <td>4/25/14</td>\n",
       "      <td>63</td>\n",
       "      <td>81.5760</td>\n",
       "      <td>M</td>\n",
       "      <td>14</td>\n",
       "      <td>Male</td>\n",
       "      <td>White</td>\n",
       "      <td>NaN</td>\n",
       "      <td>57</td>\n",
       "      <td>NaN</td>\n",
       "      <td>33</td>\n",
       "      <td>1</td>\n",
       "      <td>0</td>\n",
       "      <td>0</td>\n",
       "      <td>1333</td>\n",
       "      <td>NaN</td>\n",
       "      <td>14YOM FELL WHILE SKATEBOARDING AND FRACTURED L...</td>\n",
       "    </tr>\n",
       "    <tr>\n",
       "      <th>135</th>\n",
       "      <td>141017208</td>\n",
       "      <td>7/29/14</td>\n",
       "      <td>14</td>\n",
       "      <td>50.1602</td>\n",
       "      <td>M</td>\n",
       "      <td>51</td>\n",
       "      <td>Male</td>\n",
       "      <td>Black/African American</td>\n",
       "      <td>NaN</td>\n",
       "      <td>57</td>\n",
       "      <td>NaN</td>\n",
       "      <td>37</td>\n",
       "      <td>1</td>\n",
       "      <td>4</td>\n",
       "      <td>0</td>\n",
       "      <td>5042</td>\n",
       "      <td>NaN</td>\n",
       "      <td>51YOM  PT C/O L ANKLE, KNEE APIN AND L ELBOW P...</td>\n",
       "    </tr>\n",
       "    <tr>\n",
       "      <th>166</th>\n",
       "      <td>140851075</td>\n",
       "      <td>5/25/14</td>\n",
       "      <td>14</td>\n",
       "      <td>41.0402</td>\n",
       "      <td>M</td>\n",
       "      <td>14</td>\n",
       "      <td>Male</td>\n",
       "      <td>White</td>\n",
       "      <td>NaN</td>\n",
       "      <td>64</td>\n",
       "      <td>NaN</td>\n",
       "      <td>37</td>\n",
       "      <td>1</td>\n",
       "      <td>9</td>\n",
       "      <td>0</td>\n",
       "      <td>1842</td>\n",
       "      <td>1333.0</td>\n",
       "      <td>14YOM  PT TRYING TO JUMP 5 STEPS ON A SKATEBOA...</td>\n",
       "    </tr>\n",
       "    <tr>\n",
       "      <th>292</th>\n",
       "      <td>140735930</td>\n",
       "      <td>7/13/14</td>\n",
       "      <td>90</td>\n",
       "      <td>5.7174</td>\n",
       "      <td>C</td>\n",
       "      <td>15</td>\n",
       "      <td>Female</td>\n",
       "      <td>White</td>\n",
       "      <td>NaN</td>\n",
       "      <td>62</td>\n",
       "      <td>NaN</td>\n",
       "      <td>75</td>\n",
       "      <td>1</td>\n",
       "      <td>0</td>\n",
       "      <td>0</td>\n",
       "      <td>1333</td>\n",
       "      <td>NaN</td>\n",
       "      <td>15 YOF FELL OFF A LONG BOARD &amp; HIT HEAD- UNHEL...</td>\n",
       "    </tr>\n",
       "  </tbody>\n",
       "</table>\n",
       "</div>"
      ],
      "text/plain": [
       "     CPSC Case # trmt_date  psu   weight stratum  age     sex  \\\n",
       "2      150144993   8/17/14   63  99.7040       M   21  Female   \n",
       "39     140505206   4/25/14   63  81.5760       M   14    Male   \n",
       "135    141017208   7/29/14   14  50.1602       M   51    Male   \n",
       "166    140851075   5/25/14   14  41.0402       M   14    Male   \n",
       "292    140735930   7/13/14   90   5.7174       C   15  Female   \n",
       "\n",
       "                       race race_other  diag diag_other  body_part  \\\n",
       "2               None listed        NaN    57        NaN         83   \n",
       "39                    White        NaN    57        NaN         33   \n",
       "135  Black/African American        NaN    57        NaN         37   \n",
       "166                   White        NaN    64        NaN         37   \n",
       "292                   White        NaN    62        NaN         75   \n",
       "\n",
       "     disposition  location  fmv  prod1   prod2  \\\n",
       "2              1         0    0   1333     NaN   \n",
       "39             1         0    0   1333     NaN   \n",
       "135            1         4    0   5042     NaN   \n",
       "166            1         9    0   1842  1333.0   \n",
       "292            1         0    0   1333     NaN   \n",
       "\n",
       "                                             narrative  \n",
       "2      21YOF FELL OFF A SKATEBOARD AND FRACTURED FOOT   \n",
       "39   14YOM FELL WHILE SKATEBOARDING AND FRACTURED L...  \n",
       "135  51YOM  PT C/O L ANKLE, KNEE APIN AND L ELBOW P...  \n",
       "166  14YOM  PT TRYING TO JUMP 5 STEPS ON A SKATEBOA...  \n",
       "292  15 YOF FELL OFF A LONG BOARD & HIT HEAD- UNHEL...  "
      ]
     },
     "execution_count": 126,
     "metadata": {},
     "output_type": "execute_result"
    }
   ],
   "source": [
    "# There are 518 records with either 1333 or 5042 product codes\n",
    "NEISS_df[mask].head()"
   ]
  },
  {
   "cell_type": "code",
   "execution_count": 127,
   "metadata": {
    "collapsed": true
   },
   "outputs": [],
   "source": [
    "# I am as yet unsure how many 5042 codes represent scooters and how many represent skateboards\n",
    "# I will investigate further by examining narratives of products coded 5042 \n",
    "mask2 = ((NEISS_df.prod1 == 5042) | (NEISS_df.prod2 == 5042))"
   ]
  },
  {
   "cell_type": "code",
   "execution_count": 128,
   "metadata": {},
   "outputs": [
    {
     "data": {
      "text/plain": [
       "135      51YOM  PT C/O L ANKLE, KNEE APIN AND L ELBOW P...\n",
       "1633     28 YOM FELL FROM MOTORIZED SCOOTER WHILE  GOIN...\n",
       "3268     10 YOM STATES WAS RIDING *** SCOOTER NO HELMET...\n",
       "5268        RT WRIST FX.69YOM FELL OFF MOTORIZED SCOOTER. \n",
       "7416     2 YOM PLAYING ON A MOTORIZED SCOOTER AND FELL ...\n",
       "15509    12YOF FELL OFF A MOTORIZED SCOOTER AND INJURED...\n",
       "15541    22YOM FELL OFF A SCOOTER IN THE STREET WHILE G...\n",
       "19948    9YOM WAS RIDING A MOTORIZED SCOOTER AND CRASHE...\n",
       "27875    63 YO FEMALE WHILE RIDING *** FELL INJ ARM . D...\n",
       "32478    PT FELL FROM A SCOOTER. LACERATION FACE. 54 YOM* \n",
       "33248    5 YOF RIDING ELECTRIC SCOOTER, CRASHED WENT IN...\n",
       "33992    6 YOF RIDING ELECTRIC SCOOTER WHEN FELL OFF AN...\n",
       "34306    10YFC TRIPPED OVER AN ELECTRIC SCOOTER HITTING...\n",
       "34395    51 YOF WAS RIDING MOTORIZED SCOOTER ON WET SID...\n",
       "42734    14YMC ON A 3 WHEELED SCOOTER DOING SPINS FLEW ...\n",
       "45097    26 YOM DX LT CLOSED FEMORA FX - S/P MOTOR/SCOO...\n",
       "45620    48YOM WAS RIDING A SCOOTER IN THE STREET AND G...\n",
       "47387    11 YOM MOTOR SCOOTER CRASH. DX LOWER LEG LACER...\n",
       "55496    DX CLOSED FX OF FIBULA 80YOM PATIENT WAS ON PO...\n",
       "58065    64YF WAS ON VACATION RIDING *** FELT DIZZY&FEL...\n",
       "61566    11 YOM FELL FROM MOTORIZED SCOOTER.  DX: WRIST...\n",
       "63351    35YOM  PT STRUCK BY VEHICLE WHILE RIDING SCOOT...\n",
       "64192    37 YOM WAS ON A MOTORIZED SCOOTER ON THE SIDEW...\n",
       "Name: narrative, dtype: object"
      ]
     },
     "execution_count": 128,
     "metadata": {},
     "output_type": "execute_result"
    }
   ],
   "source": [
    "NEISS_df[mask2].narrative"
   ]
  },
  {
   "cell_type": "code",
   "execution_count": 129,
   "metadata": {
    "collapsed": true
   },
   "outputs": [],
   "source": [
    "# 5042 codes seem to relate more to electric scooters, with little mention of skateboards"
   ]
  },
  {
   "cell_type": "code",
   "execution_count": 130,
   "metadata": {
    "collapsed": true
   },
   "outputs": [],
   "source": [
    "# To examine further, I will search narratives of records with 5042 product codes for mention of the word 'skateboard'"
   ]
  },
  {
   "cell_type": "code",
   "execution_count": 131,
   "metadata": {},
   "outputs": [
    {
     "data": {
      "text/plain": [
       "0"
      ]
     },
     "execution_count": 131,
     "metadata": {},
     "output_type": "execute_result"
    }
   ],
   "source": [
    "len(NEISS_df[mask2][NEISS_df[mask2].narrative.str.contains('SKATEBOARD')].index)"
   ]
  },
  {
   "cell_type": "code",
   "execution_count": 132,
   "metadata": {
    "collapsed": true
   },
   "outputs": [],
   "source": [
    "# Not a single narrative of a record with a product coded 5042 contains the word 'skateboard'\n",
    "# For that reason, the 1333 product code alone will be taken to mean skateboard for this analysis"
   ]
  },
  {
   "cell_type": "code",
   "execution_count": 133,
   "metadata": {
    "collapsed": true
   },
   "outputs": [],
   "source": [
    "# As a precautionary measure, I will investigate whether the word skateboard DOES show up in products coded 1333"
   ]
  },
  {
   "cell_type": "code",
   "execution_count": 134,
   "metadata": {
    "collapsed": true
   },
   "outputs": [],
   "source": [
    "mask3 = ((NEISS_df.prod1 == 1333) | (NEISS_df.prod2 == 1333))"
   ]
  },
  {
   "cell_type": "code",
   "execution_count": 135,
   "metadata": {},
   "outputs": [
    {
     "data": {
      "text/plain": [
       "465"
      ]
     },
     "execution_count": 135,
     "metadata": {},
     "output_type": "execute_result"
    }
   ],
   "source": [
    "len(NEISS_df[mask3][NEISS_df[mask3].narrative.str.contains('SKATEBOARD')].index)"
   ]
  },
  {
   "cell_type": "code",
   "execution_count": 136,
   "metadata": {
    "collapsed": true
   },
   "outputs": [],
   "source": [
    "# 465 records with product code 1333 have a narrative containing 'skateboard'\n",
    "# To put this in perspective, I must see how many records in total contain a 1333 product code"
   ]
  },
  {
   "cell_type": "code",
   "execution_count": 137,
   "metadata": {},
   "outputs": [
    {
     "data": {
      "text/plain": [
       "495"
      ]
     },
     "execution_count": 137,
     "metadata": {},
     "output_type": "execute_result"
    }
   ],
   "source": [
    "len(NEISS_df[mask3].index)"
   ]
  },
  {
   "cell_type": "code",
   "execution_count": 138,
   "metadata": {
    "collapsed": true
   },
   "outputs": [],
   "source": [
    "# This means there are 30 records with a 1333 product code, but no mention of a skateboard in the narrative\n",
    "# I'll examine these records more closely to try to explain why this might be so"
   ]
  },
  {
   "cell_type": "code",
   "execution_count": 139,
   "metadata": {},
   "outputs": [
    {
     "data": {
      "text/plain": [
       "292      15 YOF FELL OFF A LONG BOARD & HIT HEAD- UNHEL...\n",
       "1360     20-YOM INVERTED L ANKLE WHILE LONGBOARDING. C/...\n",
       "8724     9YOF SPRAINED WRIST FELL OFF HER SKATEBOAD ONT...\n",
       "8897     DX ANKLE SPRAIN LT 22YOM PATIENT TWISTED LT AN...\n",
       "8958     DX CHIN LAC 15YOM PATIENT LONG BOARDING DWN HI...\n",
       "9373     8YOM  PT C/O L WRIST/HAND PAIN AFTER FALLING O...\n",
       "16066    17 YOM NJURED AFTER FALLING OFF SKATEBAORD. DX...\n",
       "17245    8YOF FELL ON OUTSTRETCHED ARM WHILE RIDING A *...\n",
       "17888    DX RT UPPER EXT SKIN ABRASION 21YOM ROAD RASH ...\n",
       "20239    16YOM PAIN TO HEAD WHEN FALL TO GROUND WHILE S...\n",
       "20948    21 YO M, C/O ABSCESS ON RT CHEEK PT SCRAPED HI...\n",
       "24197    16 YO M FELL WHILE LONGBOARDING. NOT WEARING P...\n",
       "25137    9 YOM WAS WALKING UP A SKATE BOARD RAMP AND FE...\n",
       "26994     20 YOM SPRAIN RT FOOT-FELL WHILE SKATE BOARDING \n",
       "27351    14 YOM WAS ON A LONGBOARD, & PUT HIS FOOT DOWN...\n",
       "32131    16 YO WM LONGBOARDING SIMILIAR TO SKATE BOARD ...\n",
       "38606    15YOM INJ.L.SHOULDER ON ROAD WHEN LONGBOARDING...\n",
       "40113    15YOM  PT RIDING LONG BOARD, FELL OFF AND SLID...\n",
       "40252    16 YOM FELL WHILE SKATE BOARDING DOWN A HILL I...\n",
       "42393    50 YO M,LAST NIGHT PLAYING W/ DAUGHTER,SHOWING...\n",
       "47131                  21YOM FX MANDIBLE- FELL SKATEBAORD \n",
       "50558    19YF WRIST PAIN SINCE FOOSH FROM SKATEOBARD YT...\n",
       "52554    RT KNEE STRAIN.29YOM WAS SKATEBAORDING AND PUT...\n",
       "56028    16 YOM WAS LONGBOARDING, & FELL ONTO HIS OUTST...\n",
       "56596    AN 18 YOM FELL WHILE SAKTEBOARDING AND INJURED...\n",
       "56763    5 YO M WAS PLAYING W/ ANOTHER CHILD WHEN HE WA...\n",
       "58061    19YF SKATEOBARDING&FELL STRIKING CHIN ON GROUN...\n",
       "58662    7YOF FELL OFF *** OR SCOOTER; SUPRACONDYLAR EL...\n",
       "64746    10YOM RIDING A *** AND FELL TO THE STREET FRAC...\n",
       "65391    8 YO FEMALE RIDING A *** AND FELL.  DX HUMERUS...\n",
       "Name: narrative, dtype: object"
      ]
     },
     "execution_count": 139,
     "metadata": {},
     "output_type": "execute_result"
    }
   ],
   "source": [
    "NEISS_df[mask3][~NEISS_df[mask3].narrative.str.contains('SKATEBOARD')].narrative"
   ]
  },
  {
   "cell_type": "code",
   "execution_count": 140,
   "metadata": {
    "collapsed": true
   },
   "outputs": [],
   "source": [
    "# Absence of 'skateboard' in these records seems to be explained by a mixture of typos, misspellings and 'longboard'\n",
    "# Though longboards aren't strictly skateboards they will qualify as such for this analysis\n",
    "# The NEISS manual may wish to consider adding longboard as a distinct product category with its own code in future"
   ]
  },
  {
   "cell_type": "code",
   "execution_count": 141,
   "metadata": {},
   "outputs": [
    {
     "data": {
      "text/plain": [
       "495"
      ]
     },
     "execution_count": 141,
     "metadata": {},
     "output_type": "execute_result"
    }
   ],
   "source": [
    "# Skateboards were involved in a total of 495 incidents\n",
    "len(NEISS_df[mask3].index)"
   ]
  },
  {
   "cell_type": "code",
   "execution_count": 142,
   "metadata": {},
   "outputs": [
    {
     "data": {
      "text/plain": [
       "Male      0.820202\n",
       "Female    0.179798\n",
       "Name: sex, dtype: float64"
      ]
     },
     "execution_count": 142,
     "metadata": {},
     "output_type": "execute_result"
    }
   ],
   "source": [
    "# Of those involved in skateboard-related accidents, 82% were male and 18% were female\n",
    "NEISS_df[mask3].sex.value_counts(normalize=True)"
   ]
  },
  {
   "cell_type": "code",
   "execution_count": 143,
   "metadata": {
    "collapsed": true
   },
   "outputs": [],
   "source": [
    "import matplotlib.pyplot as plt\n",
    "%matplotlib inline"
   ]
  },
  {
   "cell_type": "code",
   "execution_count": 144,
   "metadata": {},
   "outputs": [
    {
     "data": {
      "text/plain": [
       "<matplotlib.axes._subplots.AxesSubplot at 0x119dc0588>"
      ]
     },
     "execution_count": 144,
     "metadata": {},
     "output_type": "execute_result"
    },
    {
     "data": {
      "image/png": "[encoded data removed]",
      "text/plain": [
       "<matplotlib.figure.Figure at 0x119dd29b0>"
      ]
     },
     "metadata": {},
     "output_type": "display_data"
    }
   ],
   "source": [
    "# As described in the NEISS coding manual, ages less than two years have been coded as months completed, preceded by\n",
    "# a 2 e.g. 0 months completed = 200, 6 months completed = 206.\n",
    "NEISS_df.age.hist(bins=100)"
   ]
  },
  {
   "cell_type": "code",
   "execution_count": 145,
   "metadata": {},
   "outputs": [
    {
     "data": {
      "text/plain": [
       "[3,\n",
       " 4,\n",
       " 5,\n",
       " 6,\n",
       " 7,\n",
       " 8,\n",
       " 9,\n",
       " 10,\n",
       " 11,\n",
       " 12,\n",
       " 13,\n",
       " 14,\n",
       " 15,\n",
       " 16,\n",
       " 17,\n",
       " 18,\n",
       " 19,\n",
       " 20,\n",
       " 21,\n",
       " 22,\n",
       " 23,\n",
       " 24,\n",
       " 25,\n",
       " 26,\n",
       " 27,\n",
       " 28,\n",
       " 29,\n",
       " 30,\n",
       " 31,\n",
       " 32,\n",
       " 33,\n",
       " 36,\n",
       " 37,\n",
       " 38,\n",
       " 39,\n",
       " 40,\n",
       " 41,\n",
       " 42,\n",
       " 43,\n",
       " 44,\n",
       " 45,\n",
       " 46,\n",
       " 47,\n",
       " 48,\n",
       " 50,\n",
       " 52,\n",
       " 64,\n",
       " 71]"
      ]
     },
     "execution_count": 145,
     "metadata": {},
     "output_type": "execute_result"
    }
   ],
   "source": [
    "# This may prove problematic for this analysis. I will check if any records involved in skateboard accidents have been\n",
    "# coded in this way\n",
    "sorted(NEISS_df[mask3].age.unique())"
   ]
  },
  {
   "cell_type": "code",
   "execution_count": 146,
   "metadata": {},
   "outputs": [
    {
     "data": {
      "text/plain": [
       "17.89090909090909"
      ]
     },
     "execution_count": 146,
     "metadata": {},
     "output_type": "execute_result"
    }
   ],
   "source": [
    "# Since the ages involved in this analysis have been coded normally I can proceed\n",
    "# The average age of those involved in skateboard accidents is 17.9\n",
    "NEISS_df[mask3].age.mean()"
   ]
  },
  {
   "cell_type": "markdown",
   "metadata": {},
   "source": [
    "# Question 3"
   ]
  },
  {
   "cell_type": "markdown",
   "metadata": {},
   "source": [
    "What diagnosis had the highest hospitalization rate? "
   ]
  },
  {
   "cell_type": "markdown",
   "metadata": {},
   "source": [
    "What diagnosis most often concluded with the individual leaving without being seen?"
   ]
  },
  {
   "cell_type": "markdown",
   "metadata": {},
   "source": [
    "Briefly discuss your findings and any caveats you'd mention when discussing this data"
   ]
  },
  {
   "cell_type": "code",
   "execution_count": 147,
   "metadata": {
    "collapsed": true
   },
   "outputs": [],
   "source": [
    "# I will group by diagnosis and disposition\n",
    "diagdisp_group = NEISS_df[['diag', 'disposition']].groupby(['diag', 'disposition'])['disposition'].count()"
   ]
  },
  {
   "cell_type": "code",
   "execution_count": 148,
   "metadata": {
    "scrolled": true
   },
   "outputs": [
    {
     "data": {
      "text/plain": [
       "diag  disposition\n",
       "41    1               403\n",
       "      2                18\n",
       "      4                56\n",
       "      5                 5\n",
       "      6                 1\n",
       "42    1                57\n",
       "      2                 2\n",
       "      4                 5\n",
       "      6                 2\n",
       "46    1                25\n",
       "47    1                17\n",
       "      4                 2\n",
       "48    1               336\n",
       "      2                20\n",
       "      4                29\n",
       "      5                 2\n",
       "      6                 5\n",
       "49    1                82\n",
       "      2                 1\n",
       "      5                 1\n",
       "      6                 2\n",
       "50    1                88\n",
       "      2                12\n",
       "      4                20\n",
       "      5                 3\n",
       "      6                 2\n",
       "51    1               443\n",
       "      2                29\n",
       "      4                27\n",
       "      5                 3\n",
       "                     ... \n",
       "66    4                 1\n",
       "      5                 1\n",
       "67    1                29\n",
       "      4                 3\n",
       "68    1               554\n",
       "      2                18\n",
       "      4                88\n",
       "      5                39\n",
       "      6                24\n",
       "      8                 1\n",
       "69    1                26\n",
       "      4                23\n",
       "      5                 3\n",
       "      8                 2\n",
       "71    1              7091\n",
       "      2                63\n",
       "      4               613\n",
       "      5                83\n",
       "      6               257\n",
       "      8                13\n",
       "72    1               318\n",
       "      2                 4\n",
       "      4                12\n",
       "      5                 1\n",
       "      6                 2\n",
       "73    1                34\n",
       "      6                 1\n",
       "74    1               410\n",
       "      4                 2\n",
       "      6                 2\n",
       "Name: disposition, Length: 131, dtype: int64"
      ]
     },
     "execution_count": 148,
     "metadata": {},
     "output_type": "execute_result"
    }
   ],
   "source": [
    "diagdisp_group"
   ]
  },
  {
   "cell_type": "code",
   "execution_count": 149,
   "metadata": {
    "collapsed": true
   },
   "outputs": [],
   "source": [
    "# On examining Disposition.csv, admitted for hospitalization is coded as 4, though codes 2 and 5 could also denote\n",
    "# hospitalization. For the purposes of this analysis, I will consider code 4 to denote hospitalization.\n",
    "# Trying to use a generator to find each ratio could be troublesome, as not every diagnosis has dispositions of\n",
    "# value 4. For that reason, I will use a loop through each diagnosis to find each ratio."
   ]
  },
  {
   "cell_type": "code",
   "execution_count": 150,
   "metadata": {
    "collapsed": true
   },
   "outputs": [],
   "source": [
    "diags_lst = NEISS_df['diag'].drop_duplicates().values.tolist()\n",
    "\n",
    "ratios_dict = {}\n",
    "\n",
    "for i in diags_lst:\n",
    "    if 4 in diagdisp_group[i]:\n",
    "        buffer = 0\n",
    "        for j in diagdisp_group[i]:\n",
    "            buffer += j\n",
    "    else: continue\n",
    "    ratios_dict[i] = diagdisp_group[i][4] / buffer"
   ]
  },
  {
   "cell_type": "code",
   "execution_count": 151,
   "metadata": {},
   "outputs": [
    {
     "data": {
      "text/plain": [
       "{41: 0.11594202898550725,\n",
       " 42: 0.07575757575757576,\n",
       " 47: 0.10526315789473684,\n",
       " 48: 0.073979591836734693,\n",
       " 50: 0.16,\n",
       " 51: 0.052734375,\n",
       " 52: 0.046822742474916385,\n",
       " 53: 0.020383242532406538,\n",
       " 55: 0.043522267206477734,\n",
       " 56: 0.007874015748031496,\n",
       " 57: 0.18602978941961992,\n",
       " 58: 0.078651685393258425,\n",
       " 59: 0.01503209555537499,\n",
       " 60: 0.0079681274900398405,\n",
       " 61: 0.085858585858585856,\n",
       " 62: 0.11873350923482849,\n",
       " 63: 0.02358490566037736,\n",
       " 64: 0.0041642455936471041,\n",
       " 65: 0.076470588235294124,\n",
       " 66: 0.015625,\n",
       " 67: 0.09375,\n",
       " 68: 0.12154696132596685,\n",
       " 69: 0.42592592592592593,\n",
       " 71: 0.075492610837438426,\n",
       " 72: 0.035608308605341248,\n",
       " 74: 0.004830917874396135}"
      ]
     },
     "execution_count": 151,
     "metadata": {},
     "output_type": "execute_result"
    }
   ],
   "source": [
    "# I will print out the ratios dict, find its maximum value, and then find that value in the dict to find which\n",
    "# diagnosis it belongs to\n",
    "ratios_dict"
   ]
  },
  {
   "cell_type": "code",
   "execution_count": 152,
   "metadata": {},
   "outputs": [
    {
     "name": "stdout",
     "output_type": "stream",
     "text": [
      "0.425925925926\n"
     ]
    }
   ],
   "source": [
    "print(max(ratios_dict.values()))"
   ]
  },
  {
   "cell_type": "code",
   "execution_count": 153,
   "metadata": {
    "collapsed": true
   },
   "outputs": [],
   "source": [
    "# This maximum ratio belongs to diagnosis code 69 which, looking at DiagnosisCodes.csv, denotes\n",
    "# submersion (including drowning). It is by far the highest rate of hospitalization among the diagnoses.\n",
    "# Though there is probably a much better and cleaner way of doing this!"
   ]
  },
  {
   "cell_type": "code",
   "execution_count": 154,
   "metadata": {
    "collapsed": true
   },
   "outputs": [],
   "source": [
    "# I will follow a similar procedure again to find which diagnosis most often led to patients leaving without being seen"
   ]
  },
  {
   "cell_type": "code",
   "execution_count": 155,
   "metadata": {
    "collapsed": true
   },
   "outputs": [],
   "source": [
    "left_dict = {}\n",
    "\n",
    "for i in diags_lst:\n",
    "    if 6 in diagdisp_group[i]:\n",
    "        left_dict[i] = diagdisp_group[i][6]"
   ]
  },
  {
   "cell_type": "code",
   "execution_count": 156,
   "metadata": {},
   "outputs": [
    {
     "data": {
      "text/plain": [
       "{41: 1,\n",
       " 42: 2,\n",
       " 48: 5,\n",
       " 49: 2,\n",
       " 50: 2,\n",
       " 51: 10,\n",
       " 52: 7,\n",
       " 53: 52,\n",
       " 55: 3,\n",
       " 56: 10,\n",
       " 57: 6,\n",
       " 58: 12,\n",
       " 59: 123,\n",
       " 60: 4,\n",
       " 62: 63,\n",
       " 63: 7,\n",
       " 64: 21,\n",
       " 65: 3,\n",
       " 68: 24,\n",
       " 71: 257,\n",
       " 72: 2,\n",
       " 73: 1,\n",
       " 74: 2}"
      ]
     },
     "execution_count": 156,
     "metadata": {},
     "output_type": "execute_result"
    }
   ],
   "source": [
    "left_dict"
   ]
  },
  {
   "cell_type": "code",
   "execution_count": 157,
   "metadata": {},
   "outputs": [
    {
     "data": {
      "text/plain": [
       "257"
      ]
     },
     "execution_count": 157,
     "metadata": {},
     "output_type": "execute_result"
    }
   ],
   "source": [
    "max(left_dict.values())"
   ]
  },
  {
   "cell_type": "code",
   "execution_count": 158,
   "metadata": {},
   "outputs": [
    {
     "data": {
      "text/plain": [
       "[1,\n",
       " 1,\n",
       " 2,\n",
       " 2,\n",
       " 2,\n",
       " 2,\n",
       " 2,\n",
       " 3,\n",
       " 3,\n",
       " 4,\n",
       " 5,\n",
       " 6,\n",
       " 7,\n",
       " 7,\n",
       " 10,\n",
       " 10,\n",
       " 12,\n",
       " 21,\n",
       " 24,\n",
       " 52,\n",
       " 63,\n",
       " 123,\n",
       " 257]"
      ]
     },
     "execution_count": 158,
     "metadata": {},
     "output_type": "execute_result"
    }
   ],
   "source": [
    "# The most common diagnosis to leave without being treated is 71, which is other/not stated\n",
    "# Since this does not qualify as a diagnosis proper, I will consider the next most common diagnosis\n",
    "sorted(left_dict.values())"
   ]
  },
  {
   "cell_type": "code",
   "execution_count": 159,
   "metadata": {
    "collapsed": true
   },
   "outputs": [],
   "source": [
    "# at 123 records, the diagnosis that left without being seen most often is diagnosis 59, which is laceration"
   ]
  },
  {
   "cell_type": "code",
   "execution_count": 160,
   "metadata": {
    "collapsed": true
   },
   "outputs": [],
   "source": [
    "# As mentioned, I'm sure there is a better way of going about these last two answers!\n",
    "\n",
    "# Also, I may have misinterpreted the the second part of the question. The wording led me to believe that I was not\n",
    "# being asked for a ratio, rather an absolute number. However, if I were to find a ratio, I would do it the same\n",
    "# way I found the answer to the first part.\n",
    "\n",
    "# It is possible that the two answers just found could be artefacts of differing sample sizes among diagnoses. As \n",
    "# illustrated in the group below, six diagnoses are much more common than the rest - 59, 53, 64, 57, 71, and 62. These\n",
    "# represent 'laceration', 'contusions, abrasion', 'strain or sprain', 'burns, thermal (from flames or hot surface)',\n",
    "# 'other/not stated', and 'internal organ injury' respectively. the fact that laceration is the most common diagnosis\n",
    "# may explain why it is the diagnosis where patients most often leave without being seen. Likewise, the fact that only\n",
    "# 54 cases of submersion (including drowning) are recorded in the dataset leaves it open to extreme results. Perhaps\n",
    "# if a larger sample were analysed, the ratio of submersion patients being hospitalized may regress towards the mean."
   ]
  },
  {
   "cell_type": "code",
   "execution_count": 161,
   "metadata": {},
   "outputs": [
    {
     "data": {
      "text/plain": [
       "59    12307\n",
       "53    10646\n",
       "64    10326\n",
       "57     9735\n",
       "71     8120\n",
       "62     5306\n",
       "52     1495\n",
       "56     1270\n",
       "55      988\n",
       "68      724\n",
       "63      636\n",
       "58      534\n",
       "51      512\n",
       "41      483\n",
       "74      414\n",
       "48      392\n",
       "72      337\n",
       "60      251\n",
       "61      198\n",
       "65      170\n",
       "54      149\n",
       "50      125\n",
       "49       86\n",
       "42       66\n",
       "66       64\n",
       "69       54\n",
       "73       35\n",
       "67       32\n",
       "46       25\n",
       "47       19\n",
       "Name: diag, dtype: int64"
      ]
     },
     "execution_count": 161,
     "metadata": {},
     "output_type": "execute_result"
    }
   ],
   "source": [
    "NEISS_df.diag.value_counts()"
   ]
  },
  {
   "cell_type": "code",
   "execution_count": 162,
   "metadata": {
    "collapsed": true
   },
   "outputs": [],
   "source": [
    "# In terms of the data itself, the biggest issues to get around are the ages coded in the 200s, and the weight field,\n",
    "# which contains repeating values as shown below. Also, record 17829's age has obviously been encoded incorrectly as 0."
   ]
  },
  {
   "cell_type": "code",
   "execution_count": 163,
   "metadata": {},
   "outputs": [
    {
     "data": {
      "text/plain": [
       "14.3089     12175\n",
       "5.7174       9903\n",
       "15.6716      9777\n",
       "82.3076      8058\n",
       "80.0213      6455\n",
       "74.3851      5519\n",
       "81.5760      4275\n",
       "99.7040      3595\n",
       "87.2960      1301\n",
       "50.1602       907\n",
       "89.7336       887\n",
       "41.0402       808\n",
       "112.1671      641\n",
       "37.4149       560\n",
       "6.6704        554\n",
       "45.1442        51\n",
       "56.4302        33\n",
       "Name: weight, dtype: int64"
      ]
     },
     "execution_count": 163,
     "metadata": {},
     "output_type": "execute_result"
    }
   ],
   "source": [
    "NEISS_df.weight.value_counts()"
   ]
  },
  {
   "cell_type": "markdown",
   "metadata": {},
   "source": [
    "# Question 4"
   ]
  },
  {
   "cell_type": "code",
   "execution_count": 164,
   "metadata": {
    "collapsed": true
   },
   "outputs": [],
   "source": [
    "# In order to use the age field properly, ages coded in the 200s will have to be recoded to 0 or 1 as appropriate"
   ]
  },
  {
   "cell_type": "code",
   "execution_count": 165,
   "metadata": {
    "collapsed": true
   },
   "outputs": [],
   "source": [
    "import numpy as np"
   ]
  },
  {
   "cell_type": "code",
   "execution_count": 166,
   "metadata": {
    "collapsed": true
   },
   "outputs": [],
   "source": [
    "zeroes = np.arange(200, 212)\n",
    "ones = np.arange(212, 224)"
   ]
  },
  {
   "cell_type": "code",
   "execution_count": 167,
   "metadata": {
    "collapsed": true
   },
   "outputs": [],
   "source": [
    "NEISS_df.age.replace(to_replace=zeroes, value=0, inplace=True)\n",
    "NEISS_df.age.replace(to_replace=ones, value=1, inplace=True)"
   ]
  },
  {
   "cell_type": "code",
   "execution_count": 168,
   "metadata": {},
   "outputs": [
    {
     "data": {
      "text/plain": [
       "<matplotlib.axes._subplots.AxesSubplot at 0x10bc88c18>"
      ]
     },
     "execution_count": 168,
     "metadata": {},
     "output_type": "execute_result"
    },
    {
     "data": {
      "image/png": "[encoded data removed]",
      "text/plain": [
       "<matplotlib.figure.Figure at 0x10bc77fd0>"
      ]
     },
     "metadata": {},
     "output_type": "display_data"
    }
   ],
   "source": [
    "NEISS_df.age.hist(bins=105)"
   ]
  },
  {
   "cell_type": "code",
   "execution_count": 169,
   "metadata": {
    "collapsed": true
   },
   "outputs": [],
   "source": [
    "# I will merge diagnoses from DiagnosisCodes.csv so that the analysis is clear"
   ]
  },
  {
   "cell_type": "code",
   "execution_count": 170,
   "metadata": {
    "collapsed": true
   },
   "outputs": [],
   "source": [
    "diagnosis_df = pd.read_csv('DiagnosisCodes.csv')"
   ]
  },
  {
   "cell_type": "code",
   "execution_count": 171,
   "metadata": {
    "collapsed": true
   },
   "outputs": [],
   "source": [
    "DG_NEISS_df = NEISS_df.merge(diagnosis_df, left_on='diag', right_on='Code')"
   ]
  },
  {
   "cell_type": "code",
   "execution_count": 172,
   "metadata": {
    "collapsed": true
   },
   "outputs": [],
   "source": [
    "# Since I'm not looking for a specific information, I will investigate the relation between age and diagnosis among the\n",
    "# the most common diagnoses. Their larger sample sizes should give more meaningful insights than other diagnoses."
   ]
  },
  {
   "cell_type": "code",
   "execution_count": 173,
   "metadata": {
    "collapsed": true
   },
   "outputs": [],
   "source": [
    "# Owing to the uneven distribution of ages throughout the dataset, plotting line graphs of diagnosis frequencies\n",
    "# across age will be distorted. For that reason I will plot freq of diagnosis / freq of age across age. This should\n",
    "# give a clearer picture of any significant relationships."
   ]
  },
  {
   "cell_type": "code",
   "execution_count": 174,
   "metadata": {
    "collapsed": true
   },
   "outputs": [],
   "source": [
    "# dataframe grouped by age and diagnosis\n",
    "agediag_grp = DG_NEISS_df.groupby(['age', 'Diagnosis'])['Diagnosis'].count()\n",
    "# sorted list of unique ages in DG_NEISS_df dataframe\n",
    "ages_lst = sorted(DG_NEISS_df['age'].drop_duplicates().values.tolist())\n",
    "# frequencies of each age in DG_NEISS_df\n",
    "counts_lst = DG_NEISS_df.age.value_counts()"
   ]
  },
  {
   "cell_type": "code",
   "execution_count": 175,
   "metadata": {},
   "outputs": [
    {
     "data": {
      "text/plain": [
       "Laceration                                                                                                                  12307\n",
       "Contusions, Abrasions                                                                                                       10646\n",
       "Strain or Sprain                                                                                                            10326\n",
       "Fracture                                                                                                                     9735\n",
       "Other/Not Stated                                                                                                             8120\n",
       "Internal organ injury                                                                                                        5306\n",
       "Concussions                                                                                                                  1495\n",
       "Foreign body                                                                                                                 1270\n",
       "Dislocation                                                                                                                   988\n",
       "Poisoning                                                                                                                     724\n",
       "Puncture                                                                                                                      636\n",
       "Hematoma                                                                                                                      534\n",
       "Burns, thermal (from flames or hot surface)                                                                                   512\n",
       "Ingested foreign object                                                                                                       483\n",
       "Dermatitis, Conjunctivitis                                                                                                    414\n",
       "Burns, scald (from hot liquids or steam)                                                                                      392\n",
       "Avulsion                                                                                                                      337\n",
       "Dental injury                                                                                                                 251\n",
       "Nerve damage                                                                                                                  198\n",
       "Anoxia                                                                                                                        170\n",
       "Crushing                                                                                                                      149\n",
       "Amputation                                                                                                                    125\n",
       "Burns, chemical (caustics, etc.)                                                                                               86\n",
       "Aspirated foreign object                                                                                                       66\n",
       "Hemorrhage                                                                                                                     64\n",
       "Submersion (including Drowning)                                                                                                54\n",
       "Burns, radiation (includes all cell damage by ultraviolet, x- rays, microwaves, laser beam, radioactive materials, etc.)       35\n",
       "Electric shock                                                                                                                 32\n",
       "Burns, electrical                                                                                                              25\n",
       "Burns, not specified                                                                                                           19\n",
       "Name: Diagnosis, dtype: int64"
      ]
     },
     "execution_count": 175,
     "metadata": {},
     "output_type": "execute_result"
    }
   ],
   "source": [
    "DG_NEISS_df.Diagnosis.value_counts()"
   ]
  },
  {
   "cell_type": "code",
   "execution_count": 176,
   "metadata": {
    "collapsed": true
   },
   "outputs": [],
   "source": [
    "# 1 Laceration"
   ]
  },
  {
   "cell_type": "code",
   "execution_count": 177,
   "metadata": {
    "collapsed": true
   },
   "outputs": [],
   "source": [
    "ratios_lst = []\n",
    "\n",
    "for age in ages_lst:\n",
    "    if 'Laceration' in agediag_grp[age]:\n",
    "        ratios_lst.append(agediag_grp[age]['Laceration'] / counts_lst[age])\n",
    "    else:\n",
    "        ratios_lst.append(0)"
   ]
  },
  {
   "cell_type": "code",
   "execution_count": 178,
   "metadata": {},
   "outputs": [
    {
     "data": {
      "text/plain": [
       "[<matplotlib.lines.Line2D at 0x10a7e5be0>]"
      ]
     },
     "execution_count": 178,
     "metadata": {},
     "output_type": "execute_result"
    },
    {
     "data": {
      "image/png": "[encoded data removed]",
      "text/plain": [
       "<matplotlib.figure.Figure at 0x10bf7af28>"
      ]
     },
     "metadata": {},
     "output_type": "display_data"
    }
   ],
   "source": [
    "plt.plot(ages_lst, ratios_lst)"
   ]
  },
  {
   "cell_type": "code",
   "execution_count": 179,
   "metadata": {
    "collapsed": true
   },
   "outputs": [],
   "source": [
    "# 2 Contusions, Abrasions"
   ]
  },
  {
   "cell_type": "code",
   "execution_count": 180,
   "metadata": {
    "collapsed": true
   },
   "outputs": [],
   "source": [
    "ratios_lst = []\n",
    "\n",
    "for age in ages_lst:\n",
    "    if 'Contusions, Abrasions' in agediag_grp[age]:\n",
    "        ratios_lst.append(agediag_grp[age]['Contusions, Abrasions'] / counts_lst[age])\n",
    "    else:\n",
    "        ratios_lst.append(0)"
   ]
  },
  {
   "cell_type": "code",
   "execution_count": 181,
   "metadata": {},
   "outputs": [
    {
     "data": {
      "text/plain": [
       "[<matplotlib.lines.Line2D at 0x10a9057b8>]"
      ]
     },
     "execution_count": 181,
     "metadata": {},
     "output_type": "execute_result"
    },
    {
     "data": {
      "image/png": "[encoded data removed]",
      "text/plain": [
       "<matplotlib.figure.Figure at 0x10a88c198>"
      ]
     },
     "metadata": {},
     "output_type": "display_data"
    }
   ],
   "source": [
    "plt.plot(ages_lst, ratios_lst)"
   ]
  },
  {
   "cell_type": "code",
   "execution_count": 182,
   "metadata": {
    "collapsed": true
   },
   "outputs": [],
   "source": [
    "# 3 Strain or Sprain"
   ]
  },
  {
   "cell_type": "code",
   "execution_count": 183,
   "metadata": {
    "collapsed": true
   },
   "outputs": [],
   "source": [
    "ratios_lst = []\n",
    "\n",
    "for age in ages_lst:\n",
    "    if 'Strain or Sprain' in agediag_grp[age]:\n",
    "        ratios_lst.append(agediag_grp[age]['Strain or Sprain'] / counts_lst[age])\n",
    "    else:\n",
    "        ratios_lst.append(0)"
   ]
  },
  {
   "cell_type": "code",
   "execution_count": 184,
   "metadata": {},
   "outputs": [
    {
     "data": {
      "text/plain": [
       "[<matplotlib.lines.Line2D at 0x117b3a4e0>]"
      ]
     },
     "execution_count": 184,
     "metadata": {},
     "output_type": "execute_result"
    },
    {
     "data": {
      "image/png": "[encoded data removed]",
      "text/plain": [
       "<matplotlib.figure.Figure at 0x1173c7c50>"
      ]
     },
     "metadata": {},
     "output_type": "display_data"
    }
   ],
   "source": [
    "plt.plot(ages_lst, ratios_lst)"
   ]
  },
  {
   "cell_type": "code",
   "execution_count": 185,
   "metadata": {
    "collapsed": true
   },
   "outputs": [],
   "source": [
    "# 4 Fracture"
   ]
  },
  {
   "cell_type": "code",
   "execution_count": 186,
   "metadata": {
    "collapsed": true
   },
   "outputs": [],
   "source": [
    "ratios_lst = []\n",
    "\n",
    "for age in ages_lst:\n",
    "    if 'Fracture' in agediag_grp[age]:\n",
    "        ratios_lst.append(agediag_grp[age]['Fracture'] / counts_lst[age])\n",
    "    else:\n",
    "        ratios_lst.append(0)"
   ]
  },
  {
   "cell_type": "code",
   "execution_count": 187,
   "metadata": {},
   "outputs": [
    {
     "data": {
      "text/plain": [
       "[<matplotlib.lines.Line2D at 0x117bcc438>]"
      ]
     },
     "execution_count": 187,
     "metadata": {},
     "output_type": "execute_result"
    },
    {
     "data": {
      "image/png": "[encoded data removed]",
      "text/plain": [
       "<matplotlib.figure.Figure at 0x1123d2b00>"
      ]
     },
     "metadata": {},
     "output_type": "display_data"
    }
   ],
   "source": [
    "plt.plot(ages_lst, ratios_lst)"
   ]
  },
  {
   "cell_type": "code",
   "execution_count": 188,
   "metadata": {
    "collapsed": true
   },
   "outputs": [],
   "source": [
    "# 5 Other/Not Stated"
   ]
  },
  {
   "cell_type": "code",
   "execution_count": 189,
   "metadata": {
    "collapsed": true
   },
   "outputs": [],
   "source": [
    "ratios_lst = []\n",
    "\n",
    "for age in ages_lst:\n",
    "    if 'Other/Not Stated' in agediag_grp[age]:\n",
    "        ratios_lst.append(agediag_grp[age]['Other/Not Stated'] / counts_lst[age])\n",
    "    else:\n",
    "        ratios_lst.append(0)"
   ]
  },
  {
   "cell_type": "code",
   "execution_count": 190,
   "metadata": {},
   "outputs": [
    {
     "data": {
      "text/plain": [
       "[<matplotlib.lines.Line2D at 0x11925ff60>]"
      ]
     },
     "execution_count": 190,
     "metadata": {},
     "output_type": "execute_result"
    },
    {
     "data": {
      "image/png": "[encoded data removed]",
      "text/plain": [
       "<matplotlib.figure.Figure at 0x1191faa90>"
      ]
     },
     "metadata": {},
     "output_type": "display_data"
    }
   ],
   "source": [
    "plt.plot(ages_lst, ratios_lst)"
   ]
  },
  {
   "cell_type": "code",
   "execution_count": 191,
   "metadata": {
    "collapsed": true
   },
   "outputs": [],
   "source": [
    "# 6 Internal organ injury"
   ]
  },
  {
   "cell_type": "code",
   "execution_count": 192,
   "metadata": {
    "collapsed": true
   },
   "outputs": [],
   "source": [
    "ratios_lst = []\n",
    "\n",
    "for age in ages_lst:\n",
    "    if 'Internal organ injury' in agediag_grp[age]:\n",
    "        ratios_lst.append(agediag_grp[age]['Internal organ injury'] / counts_lst[age])\n",
    "    else:\n",
    "        ratios_lst.append(0)"
   ]
  },
  {
   "cell_type": "code",
   "execution_count": 193,
   "metadata": {},
   "outputs": [
    {
     "data": {
      "text/plain": [
       "[<matplotlib.lines.Line2D at 0x1192fe7f0>]"
      ]
     },
     "execution_count": 193,
     "metadata": {},
     "output_type": "execute_result"
    },
    {
     "data": {
      "image/png": "[encoded data removed]",
      "text/plain": [
       "<matplotlib.figure.Figure at 0x11926a908>"
      ]
     },
     "metadata": {},
     "output_type": "display_data"
    }
   ],
   "source": [
    "plt.plot(ages_lst, ratios_lst)"
   ]
  },
  {
   "cell_type": "code",
   "execution_count": 194,
   "metadata": {
    "collapsed": true
   },
   "outputs": [],
   "source": [
    "# Dealing with each of these plots in turn:\n",
    "\n",
    "# laceration is overrepresented in toddlers, underrepresented in teenagers, and exhibits a steady downward trend\n",
    "# throughout adulthood\n",
    "\n",
    "# Contusions, Abrasions exhibits a slight yet steady increase from age 40 onwards\n",
    "\n",
    "# Strain or Sprain shows a very clear trend. Incidence peaks in teenage years and becomes less common throughout adult\n",
    "# life\n",
    "\n",
    "# Fracture is more common among children than young adults, but becomes more and more common throughout adult life,\n",
    "# peaking in old age\n",
    "\n",
    "# Other/not stated diagnoses are most common among adults, and less common in the young and the old\n",
    "\n",
    "# Internal organ injuries are overrepresented in toddlers, and become more common from the age of 50 onwards"
   ]
  },
  {
   "cell_type": "code",
   "execution_count": 195,
   "metadata": {
    "collapsed": true
   },
   "outputs": [],
   "source": [
    "# Looking at the rest of the diagnoses, one might assume that Aspirated foreign object and Ingested foreign object\n",
    "# should be overrepresented among toddlers. To investigate, I will create two more plots."
   ]
  },
  {
   "cell_type": "code",
   "execution_count": 196,
   "metadata": {
    "collapsed": true
   },
   "outputs": [],
   "source": [
    "# Aspirated foreign object"
   ]
  },
  {
   "cell_type": "code",
   "execution_count": 197,
   "metadata": {
    "collapsed": true
   },
   "outputs": [],
   "source": [
    "ratios_lst = []\n",
    "\n",
    "for age in ages_lst:\n",
    "    if 'Aspirated foreign object' in agediag_grp[age]:\n",
    "        ratios_lst.append(agediag_grp[age]['Aspirated foreign object'] / counts_lst[age])\n",
    "    else:\n",
    "        ratios_lst.append(0)"
   ]
  },
  {
   "cell_type": "code",
   "execution_count": 198,
   "metadata": {},
   "outputs": [
    {
     "data": {
      "text/plain": [
       "[<matplotlib.lines.Line2D at 0x119396668>]"
      ]
     },
     "execution_count": 198,
     "metadata": {},
     "output_type": "execute_result"
    },
    {
     "data": {
      "image/png": "[encoded data removed]",
      "text/plain": [
       "<matplotlib.figure.Figure at 0x11926aa90>"
      ]
     },
     "metadata": {},
     "output_type": "display_data"
    }
   ],
   "source": [
    "plt.plot(ages_lst, ratios_lst)"
   ]
  },
  {
   "cell_type": "code",
   "execution_count": 199,
   "metadata": {
    "collapsed": true
   },
   "outputs": [],
   "source": [
    "# Ingested foreign object"
   ]
  },
  {
   "cell_type": "code",
   "execution_count": 200,
   "metadata": {
    "collapsed": true
   },
   "outputs": [],
   "source": [
    "ratios_lst = []\n",
    "\n",
    "for age in ages_lst:\n",
    "    if 'Ingested foreign object' in agediag_grp[age]:\n",
    "        ratios_lst.append(agediag_grp[age]['Ingested foreign object'] / counts_lst[age])\n",
    "    else:\n",
    "        ratios_lst.append(0)"
   ]
  },
  {
   "cell_type": "code",
   "execution_count": 201,
   "metadata": {},
   "outputs": [
    {
     "data": {
      "text/plain": [
       "[<matplotlib.lines.Line2D at 0x119428588>]"
      ]
     },
     "execution_count": 201,
     "metadata": {},
     "output_type": "execute_result"
    },
    {
     "data": {
      "image/png": "[encoded data removed]",
      "text/plain": [
       "<matplotlib.figure.Figure at 0x1193ba828>"
      ]
     },
     "metadata": {},
     "output_type": "display_data"
    }
   ],
   "source": [
    "plt.plot(ages_lst, ratios_lst)"
   ]
  },
  {
   "cell_type": "code",
   "execution_count": 202,
   "metadata": {
    "collapsed": true
   },
   "outputs": [],
   "source": [
    "# These plots support the hypothesis. However, the quality of the visualisation as well as the certainty of the\n",
    "# findings are affected by the low overall frequency of these diagnoses."
   ]
  },
  {
   "cell_type": "markdown",
   "metadata": {},
   "source": [
    "# Question 5"
   ]
  },
  {
   "cell_type": "markdown",
   "metadata": {},
   "source": [
    "Investigate the data however you like and discuss any interesting insights you can find in the data"
   ]
  },
  {
   "cell_type": "code",
   "execution_count": 203,
   "metadata": {
    "collapsed": true
   },
   "outputs": [],
   "source": [
    "# What are the most common products involved?"
   ]
  },
  {
   "cell_type": "code",
   "execution_count": 204,
   "metadata": {},
   "outputs": [
    {
     "data": {
      "text/plain": [
       "1842    5382\n",
       "1807    5162\n",
       "4076    2923\n",
       "1205    2680\n",
       "5040    2343\n",
       "1211    2036\n",
       "4074    1475\n",
       "464     1427\n",
       "1893    1375\n",
       "1884    1326\n",
       "4057    1318\n",
       "3299    1300\n",
       "611     1268\n",
       "1267    1180\n",
       "679      862\n",
       "1817     663\n",
       "1615     663\n",
       "4078     657\n",
       "5041     597\n",
       "4056     524\n",
       "1616     513\n",
       "1233     504\n",
       "1141     500\n",
       "604      497\n",
       "1333     490\n",
       "1244     481\n",
       "1871     470\n",
       "1819     463\n",
       "4014     426\n",
       "3265     421\n",
       "        ... \n",
       "843        1\n",
       "235        1\n",
       "905        1\n",
       "713        1\n",
       "1352       1\n",
       "1319       1\n",
       "967        1\n",
       "1550       1\n",
       "623        1\n",
       "1687       1\n",
       "883        1\n",
       "567        1\n",
       "1314       1\n",
       "1557       1\n",
       "1365       1\n",
       "565        1\n",
       "1734       1\n",
       "820        1\n",
       "212        1\n",
       "4083       1\n",
       "879        1\n",
       "978        1\n",
       "1393       1\n",
       "1539       1\n",
       "401        1\n",
       "880        1\n",
       "304        1\n",
       "132        1\n",
       "1903       1\n",
       "1712       1\n",
       "Name: prod1, Length: 667, dtype: int64"
      ]
     },
     "execution_count": 204,
     "metadata": {},
     "output_type": "execute_result"
    }
   ],
   "source": [
    "NEISS_df.prod1.value_counts()"
   ]
  },
  {
   "cell_type": "code",
   "execution_count": 205,
   "metadata": {
    "collapsed": true
   },
   "outputs": [],
   "source": [
    "# 1842 and 1807 denote\n",
    "# Stairs or steps (exlc. pull-down and folding stairs), and Floors and flooring materials"
   ]
  },
  {
   "cell_type": "code",
   "execution_count": 206,
   "metadata": {
    "collapsed": true
   },
   "outputs": [],
   "source": [
    "# 4076, 1205, 5040 and 1211 denote\n",
    "#Beds/bedframes, Basketball(activity, apparel, equipment), Bicycles/accessories, Football(activity, apparel, equipment)"
   ]
  },
  {
   "cell_type": "code",
   "execution_count": 207,
   "metadata": {
    "collapsed": true
   },
   "outputs": [],
   "source": [
    "# Most commonly involved products are mundane, commonly used items"
   ]
  },
  {
   "cell_type": "code",
   "execution_count": 208,
   "metadata": {
    "collapsed": true
   },
   "outputs": [],
   "source": [
    "# What is the most deadly diagnosis?"
   ]
  },
  {
   "cell_type": "code",
   "execution_count": 209,
   "metadata": {
    "collapsed": true
   },
   "outputs": [],
   "source": [
    "filt = (NEISS_df.disposition == 8)"
   ]
  },
  {
   "cell_type": "code",
   "execution_count": 210,
   "metadata": {
    "collapsed": true
   },
   "outputs": [],
   "source": [
    "died_df = NEISS_df[filt]"
   ]
  },
  {
   "cell_type": "code",
   "execution_count": 211,
   "metadata": {},
   "outputs": [
    {
     "data": {
      "text/plain": [
       "71    13\n",
       "62     7\n",
       "57     2\n",
       "53     2\n",
       "69     2\n",
       "68     1\n",
       "65     1\n",
       "Name: diag, dtype: int64"
      ]
     },
     "execution_count": 211,
     "metadata": {},
     "output_type": "execute_result"
    }
   ],
   "source": [
    "died_df.diag.value_counts()"
   ]
  },
  {
   "cell_type": "code",
   "execution_count": 212,
   "metadata": {
    "collapsed": true
   },
   "outputs": [],
   "source": [
    "# 71 - other/not stated is the most common diagnosis among patients who died, followed by 62, which denotes an internal\n",
    "# organ injury. These are two of the most common diagnoses in the dataset, so in that way, it may not very surprising."
   ]
  },
  {
   "cell_type": "code",
   "execution_count": 213,
   "metadata": {
    "collapsed": true
   },
   "outputs": [],
   "source": [
    "# What is the most deadly product?"
   ]
  },
  {
   "cell_type": "code",
   "execution_count": 214,
   "metadata": {},
   "outputs": [
    {
     "data": {
      "text/plain": [
       "1807    5\n",
       "1842    3\n",
       "5040    3\n",
       "1866    2\n",
       "1415    2\n",
       "3277    2\n",
       "1647    1\n",
       "1403    1\n",
       "3274    1\n",
       "1439    1\n",
       "1406    1\n",
       "3287    1\n",
       "4056    1\n",
       "676     1\n",
       "954     1\n",
       "667     1\n",
       "611     1\n",
       "Name: prod1, dtype: int64"
      ]
     },
     "execution_count": 214,
     "metadata": {},
     "output_type": "execute_result"
    }
   ],
   "source": [
    "died_df.prod1.value_counts()"
   ]
  },
  {
   "cell_type": "code",
   "execution_count": 215,
   "metadata": {
    "collapsed": true
   },
   "outputs": [],
   "source": [
    "# product 1807, or floors and flooring materials is the most deadly product. However, this is one of the most commonly\n",
    "# reported products. The small number of patients involved don't allow many conclusions to be drawn about which\n",
    "# products/diagnoses are most deadly."
   ]
  }
 ],
 "metadata": {
  "kernelspec": {
   "display_name": "Python 3",
   "language": "python",
   "name": "python3"
  },
  "language_info": {
   "codemirror_mode": {
    "name": "ipython",
    "version": 3
   },
   "file_extension": ".py",
   "mimetype": "text/x-python",
   "name": "python",
   "nbconvert_exporter": "python",
   "pygments_lexer": "ipython3",
   "version": "3.6.2"
  }
 },
 "nbformat": 4,
 "nbformat_minor": 2
}
